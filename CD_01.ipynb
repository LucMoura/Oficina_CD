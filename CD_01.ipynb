{
  "nbformat": 4,
  "nbformat_minor": 0,
  "metadata": {
    "colab": {
      "provenance": [],
      "toc_visible": true,
      "authorship_tag": "ABX9TyMETjDRaW9T62gu8pjcrnH4",
      "include_colab_link": true
    },
    "kernelspec": {
      "name": "python3",
      "display_name": "Python 3"
    },
    "language_info": {
      "name": "python"
    }
  },
  "cells": [
    {
      "cell_type": "markdown",
      "metadata": {
        "id": "view-in-github",
        "colab_type": "text"
      },
      "source": [
        "<a href=\"https://colab.research.google.com/github/LucMoura/Oficina_CD/blob/main/CD_01.ipynb\" target=\"_parent\"><img src=\"https://colab.research.google.com/assets/colab-badge.svg\" alt=\"Open In Colab\"/></a>"
      ]
    },
    {
      "cell_type": "markdown",
      "source": [
        "#Variaveies"
      ],
      "metadata": {
        "id": "XISolvu_Wcqx"
      }
    },
    {
      "cell_type": "code",
      "execution_count": null,
      "metadata": {
        "id": "UuvHVvzcWKVj"
      },
      "outputs": [],
      "source": [
        "#declarando variaveis de valores inteiros\n",
        "num_1 = 1\n",
        "num_2 = 2\n",
        "\n",
        "#declarando uma variavel de valor flutuante\n",
        "num_3 = 1.3\n",
        "\n",
        "#declarando variaveis do tipo string\n",
        "str_1 = \"Casa\"\n",
        "\n",
        "#declarando variaveis do tipo Boolean\n",
        "bool_1 = True\n",
        "bool_2 = False\n"
      ]
    },
    {
      "cell_type": "markdown",
      "source": [
        "#Operadores Python"
      ],
      "metadata": {
        "id": "pK_l6jYYZiwP"
      }
    },
    {
      "cell_type": "code",
      "source": [
        "#Podemos realizar soma das variaveis inteiras\n",
        "print(num_1 + num_2)\n",
        "\n",
        "#podemos realizar a soma de um flutuante e de um inteiro\n",
        "print(num_3 + num_1)\n",
        "\n",
        "#podemos multiplicar e dividir também\n",
        "print(f\"{num_2 * num_1}\\n{num_1/num_2}\")\n",
        "\n"
      ],
      "metadata": {
        "id": "SaSDq3RkZk_2"
      },
      "execution_count": null,
      "outputs": []
    },
    {
      "cell_type": "markdown",
      "source": [
        "#Estruturas Condicionais"
      ],
      "metadata": {
        "id": "FGtXWS0baZ6X"
      }
    },
    {
      "cell_type": "code",
      "source": [
        "#Segue um tipo de utilização de estruturas condicionais\n",
        "\n",
        "if num_2 + num_1 == 3:\n",
        "  print(f\"{num_2} + {num_1} é igual a 3\")\n",
        "else:\n",
        "  print(f\"{num_2} + {num_1} não é igual a 3\")"
      ],
      "metadata": {
        "id": "ZyJtuaH6cepD"
      },
      "execution_count": null,
      "outputs": []
    },
    {
      "cell_type": "markdown",
      "source": [
        "#Questões\n"
      ],
      "metadata": {
        "id": "KDxtaS56i2Oq"
      }
    },
    {
      "cell_type": "code",
      "source": [
        "#Variaveis\n",
        "a = 3\n",
        "B = 6\n",
        "h = 2\n",
        "\n",
        "#Calculando a área do trapézio\n",
        "print(f\"A area do trapézio é {(a + B)*h/2}\")\n",
        "\n",
        "#Calculando a área do trinagulo\n",
        "print(f\"A área do triangulo é {(B*h)/2}\")\n",
        "\n",
        "#Calculando a área do retângulo\n",
        "print(f\"A área do retângulo é {a*B}\")\n"
      ],
      "metadata": {
        "colab": {
          "base_uri": "https://localhost:8080/"
        },
        "id": "wWOgtuXti4wn",
        "outputId": "ae9317d5-e053-4951-9c19-71fac8c8ca15"
      },
      "execution_count": null,
      "outputs": [
        {
          "output_type": "stream",
          "name": "stdout",
          "text": [
            "A area do trapézio é 9.0\n",
            "A área do triangulo é 6.0\n",
            "A área do retângulo é 18\n"
          ]
        }
      ]
    },
    {
      "cell_type": "markdown",
      "source": [
        "#Listas e Arrays\n"
      ],
      "metadata": {
        "id": "88FGnNqiot3u"
      }
    },
    {
      "cell_type": "code",
      "source": [
        "#Básico de trabalhar com listas\n",
        "lista_numerica = [0.5, 3, 4, 1, 3 ]\n",
        "lista_palavars = [\"gato\",\"cachorro\",\"pablo\"]\n",
        "\n",
        "for numero in lista_numerica:\n",
        "  print(numero)"
      ],
      "metadata": {
        "colab": {
          "base_uri": "https://localhost:8080/"
        },
        "id": "MrCTWihxoz-t",
        "outputId": "ea03b2b7-e050-49bc-bc35-309f98b95d60"
      },
      "execution_count": null,
      "outputs": [
        {
          "output_type": "stream",
          "name": "stdout",
          "text": [
            "0.5\n",
            "3\n",
            "4\n",
            "1\n",
            "3\n"
          ]
        }
      ]
    }
  ]
}